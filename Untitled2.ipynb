{
 "cells": [
  {
   "cell_type": "code",
   "execution_count": 1,
   "metadata": {
    "collapsed": true
   },
   "outputs": [],
   "source": [
    "import f_stats\n",
    "import numpy\n",
    "G = numpy.array([[0, 0.1, 0.3, 0.8], [0, 0.2, 0.5, 0.9]])\n",
    "pops = numpy.array([\"wolf\", \"bear\", \"lynx\", \"wolverine\"])"
   ]
  },
  {
   "cell_type": "code",
   "execution_count": 5,
   "metadata": {},
   "outputs": [],
   "source": [
    "R = f_stats.estimator_covariance(G, pops, 1, \"f3_all\")"
   ]
  },
  {
   "cell_type": "code",
   "execution_count": 9,
   "metadata": {},
   "outputs": [
    {
     "data": {
      "text/plain": [
       "array(['wolf bear lynx wolverine', 'wolf bear wolverine lynx',\n",
       "       'wolf lynx bear wolverine', 'wolf lynx wolverine bear',\n",
       "       'wolf wolverine bear lynx', 'wolf wolverine lynx bear',\n",
       "       'bear wolf lynx wolverine', 'bear wolf wolverine lynx',\n",
       "       'bear lynx wolf wolverine', 'bear lynx wolverine wolf',\n",
       "       'bear wolverine wolf lynx', 'bear wolverine lynx wolf',\n",
       "       'lynx wolf bear wolverine', 'lynx wolf wolverine bear',\n",
       "       'lynx bear wolf wolverine', 'lynx bear wolverine wolf',\n",
       "       'lynx wolverine wolf bear', 'lynx wolverine bear wolf',\n",
       "       'wolverine wolf bear lynx', 'wolverine wolf lynx bear',\n",
       "       'wolverine bear wolf lynx', 'wolverine bear lynx wolf',\n",
       "       'wolverine lynx wolf bear', 'wolverine lynx bear wolf'], dtype=object)"
      ]
     },
     "execution_count": 9,
     "metadata": {},
     "output_type": "execute_result"
    }
   ],
   "source": [
    "R[2]"
   ]
  },
  {
   "cell_type": "code",
   "execution_count": 12,
   "metadata": {},
   "outputs": [
    {
     "data": {
      "text/plain": [
       "(array([[ 0.,  0.,  0.,  0.,  0.,  0.,  0.,  0.,  0.,  0.,  0.,  0.,  0.,\n",
       "          0.,  0.,  0.,  0.,  0.,  0.,  0.,  0.,  0.,  0.,  0.],\n",
       "        [ 0.,  0.,  1., -1.,  1., -1.,  0.,  0.,  1., -1.,  1., -1., -1.,\n",
       "          1., -1.,  1.,  0.,  0., -1.,  1., -1.,  1.,  0.,  0.],\n",
       "        [ 1., -1.,  0.,  0., -1.,  1., -1.,  1., -1.,  1.,  0.,  0.,  0.,\n",
       "          0.,  1., -1.,  1., -1.,  1., -1.,  0.,  0., -1.,  1.],\n",
       "        [-1.,  1., -1.,  1.,  0.,  0.,  1., -1.,  0.,  0., -1.,  1.,  1.,\n",
       "         -1.,  0.,  0., -1.,  1.,  0.,  0.,  1., -1.,  1., -1.],\n",
       "        [ 0.,  0.,  0.,  0.,  0.,  0.,  0.,  0.,  0.,  0.,  0.,  0.,  0.,\n",
       "          0.,  0.,  0.,  0.,  0.,  0.,  0.,  0.,  0.,  0.,  0.],\n",
       "        [-1.,  1., -1.,  1.,  0.,  0.,  1., -1.,  0.,  0., -1.,  1.,  1.,\n",
       "         -1.,  0.,  0., -1.,  1.,  0.,  0.,  1., -1.,  1., -1.],\n",
       "        [ 1., -1.,  0.,  0., -1.,  1., -1.,  1., -1.,  1.,  0.,  0.,  0.,\n",
       "          0.,  1., -1.,  1., -1.,  1., -1.,  0.,  0., -1.,  1.],\n",
       "        [ 0.,  0.,  0.,  0.,  0.,  0.,  0.,  0.,  0.,  0.,  0.,  0.,  0.,\n",
       "          0.,  0.,  0.,  0.,  0.,  0.,  0.,  0.,  0.,  0.,  0.],\n",
       "        [ 0.,  0.,  1., -1.,  1., -1.,  0.,  0.,  1., -1.,  1., -1., -1.,\n",
       "          1., -1.,  1.,  0.,  0., -1.,  1., -1.,  1.,  0.,  0.],\n",
       "        [ 0.,  0.,  0.,  0.,  0.,  0.,  0.,  0.,  0.,  0.,  0.,  0.,  0.,\n",
       "          0.,  0.,  0.,  0.,  0.,  0.,  0.,  0.,  0.,  0.,  0.]]),\n",
       " array(['wolf bear lynx wolverine', 'wolf bear wolverine lynx',\n",
       "        'wolf lynx bear wolverine', 'wolf lynx wolverine bear',\n",
       "        'wolf wolverine bear lynx', 'wolf wolverine lynx bear',\n",
       "        'bear wolf lynx wolverine', 'bear wolf wolverine lynx',\n",
       "        'bear lynx wolf wolverine', 'bear lynx wolverine wolf',\n",
       "        'bear wolverine wolf lynx', 'bear wolverine lynx wolf',\n",
       "        'lynx wolf bear wolverine', 'lynx wolf wolverine bear',\n",
       "        'lynx bear wolf wolverine', 'lynx bear wolverine wolf',\n",
       "        'lynx wolverine wolf bear', 'lynx wolverine bear wolf',\n",
       "        'wolverine wolf bear lynx', 'wolverine wolf lynx bear',\n",
       "        'wolverine bear wolf lynx', 'wolverine bear lynx wolf',\n",
       "        'wolverine lynx wolf bear', 'wolverine lynx bear wolf'], dtype=object))"
      ]
     },
     "execution_count": 12,
     "metadata": {},
     "output_type": "execute_result"
    }
   ],
   "source": [
    "f_stats.f3_all(pops)"
   ]
  },
  {
   "cell_type": "code",
   "execution_count": 15,
   "metadata": {
    "collapsed": true
   },
   "outputs": [],
   "source": [
    "def f3_all(populations):\n",
    "    P = len(populations) # The number of populations.\n",
    "    S = int(P*(P + 1)/2) # The number of second degree terms.\n",
    "    F = int((P - 2)*(P - 1)*P) # The number of statistics.\n",
    "    M = numpy.zeros((S, F)) # The matrix coding the statistics in terms of the second degree terms.\n",
    "    names = numpy.empty(F, dtype = object) # An empty array for the statistic names.\n",
    "    t = 0 # A counter.\n",
    "    for i in range(0, P):\n",
    "        for j in range(0, P):\n",
    "            if j != i:\n",
    "                for k in range(0, P):\n",
    "                    if k != i:\n",
    "                        if k != j:\n",
    "                            M[index(P, i, 0), t] = 1\n",
    "                            M[index(P, numpy.minimum(j, k), numpy.absolute(j - k)), t] = 1\n",
    "                            M[index(P, numpy.minimum(i, j), numpy.absolute(i - j)), t] = - 1\n",
    "                            M[index(P, numpy.minimum(i, k), numpy.absolute(i - k)), t] = - 1\n",
    "                            names[t] = populations[i] + \" \" + populations[j] + \" \" + populations[i] + \" \" + populations[k]\n",
    "                            t += 1\n",
    "    return(M, names)\n",
    "\n",
    "def index(P, r, d):\n",
    "    return(int(d + r*(P - (r - 1)/2)))"
   ]
  },
  {
   "cell_type": "code",
   "execution_count": 16,
   "metadata": {},
   "outputs": [
    {
     "data": {
      "text/plain": [
       "(array([[ 1.,  1.,  1.,  1.,  1.,  1.,  0.,  0.,  0.,  0.,  0.,  0.,  0.,\n",
       "          0.,  0.,  0.,  0.,  0.,  0.,  0.,  0.,  0.,  0.,  0.],\n",
       "        [-1., -1., -1.,  0., -1.,  0., -1., -1., -1.,  0., -1.,  0.,  1.,\n",
       "          0.,  1.,  0.,  0.,  0.,  1.,  0.,  1.,  0.,  0.,  0.],\n",
       "        [-1.,  0., -1., -1.,  0., -1.,  1.,  0.,  1.,  0.,  0.,  0., -1.,\n",
       "         -1., -1.,  0., -1.,  0.,  0.,  1.,  0.,  0.,  1.,  0.],\n",
       "        [ 0., -1.,  0., -1., -1., -1.,  0.,  1.,  0.,  0.,  1.,  0.,  0.,\n",
       "          1.,  0.,  0.,  1.,  0., -1., -1., -1.,  0., -1.,  0.],\n",
       "        [ 0.,  0.,  0.,  0.,  0.,  0.,  1.,  1.,  1.,  1.,  1.,  1.,  0.,\n",
       "          0.,  0.,  0.,  0.,  0.,  0.,  0.,  0.,  0.,  0.,  0.],\n",
       "        [ 1.,  0.,  1.,  0.,  0.,  0., -1.,  0., -1., -1.,  0., -1., -1.,\n",
       "          0., -1., -1.,  0., -1.,  0.,  0.,  0.,  1.,  0.,  1.],\n",
       "        [ 0.,  1.,  0.,  0.,  1.,  0.,  0., -1.,  0., -1., -1., -1.,  0.,\n",
       "          0.,  0.,  1.,  0.,  1., -1.,  0., -1., -1.,  0., -1.],\n",
       "        [ 0.,  0.,  0.,  0.,  0.,  0.,  0.,  0.,  0.,  0.,  0.,  0.,  1.,\n",
       "          1.,  1.,  1.,  1.,  1.,  0.,  0.,  0.,  0.,  0.,  0.],\n",
       "        [ 0.,  0.,  0.,  1.,  0.,  1.,  0.,  0.,  0.,  1.,  0.,  1.,  0.,\n",
       "         -1.,  0., -1., -1., -1.,  0., -1.,  0., -1., -1., -1.],\n",
       "        [ 0.,  0.,  0.,  0.,  0.,  0.,  0.,  0.,  0.,  0.,  0.,  0.,  0.,\n",
       "          0.,  0.,  0.,  0.,  0.,  1.,  1.,  1.,  1.,  1.,  1.]]),\n",
       " array(['wolf bear wolf lynx', 'wolf bear wolf wolverine',\n",
       "        'wolf lynx wolf bear', 'wolf lynx wolf wolverine',\n",
       "        'wolf wolverine wolf bear', 'wolf wolverine wolf lynx',\n",
       "        'bear wolf bear lynx', 'bear wolf bear wolverine',\n",
       "        'bear lynx bear wolf', 'bear lynx bear wolverine',\n",
       "        'bear wolverine bear wolf', 'bear wolverine bear lynx',\n",
       "        'lynx wolf lynx bear', 'lynx wolf lynx wolverine',\n",
       "        'lynx bear lynx wolf', 'lynx bear lynx wolverine',\n",
       "        'lynx wolverine lynx wolf', 'lynx wolverine lynx bear',\n",
       "        'wolverine wolf wolverine bear', 'wolverine wolf wolverine lynx',\n",
       "        'wolverine bear wolverine wolf', 'wolverine bear wolverine lynx',\n",
       "        'wolverine lynx wolverine wolf', 'wolverine lynx wolverine bear'], dtype=object))"
      ]
     },
     "execution_count": 16,
     "metadata": {},
     "output_type": "execute_result"
    }
   ],
   "source": [
    "f3_all(pops)"
   ]
  },
  {
   "cell_type": "code",
   "execution_count": null,
   "metadata": {
    "collapsed": true
   },
   "outputs": [],
   "source": []
  }
 ],
 "metadata": {
  "kernelspec": {
   "display_name": "Python 3",
   "language": "python",
   "name": "python3"
  },
  "language_info": {
   "codemirror_mode": {
    "name": "ipython",
    "version": 3
   },
   "file_extension": ".py",
   "mimetype": "text/x-python",
   "name": "python",
   "nbconvert_exporter": "python",
   "pygments_lexer": "ipython3",
   "version": "3.6.2"
  }
 },
 "nbformat": 4,
 "nbformat_minor": 2
}

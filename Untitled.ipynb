{
 "cells": [
  {
   "cell_type": "code",
   "execution_count": 3,
   "metadata": {},
   "outputs": [],
   "source": [
    "import f_stats\n",
    "import numpy"
   ]
  },
  {
   "cell_type": "code",
   "execution_count": 5,
   "metadata": {},
   "outputs": [],
   "source": [
    "G = numpy.array([[0, 0.1, 0.3, 0.8], [0, 0.2, 0.5, 0.9]])\n",
    "pops = numpy.array([\"wolf\", \"bear\", \"lynx\", \"wolverine\"])"
   ]
  },
  {
   "cell_type": "code",
   "execution_count": 10,
   "metadata": {},
   "outputs": [
    {
     "data": {
      "text/plain": [
       "(array([[ 0.13],\n",
       "        [-0.04],\n",
       "        [-0.11],\n",
       "        [ 0.38]]), array([[ 0.0025, -0.001 , -0.0005, -0.001 ],\n",
       "        [-0.001 ,  0.0004,  0.0002,  0.0004],\n",
       "        [-0.0005,  0.0002,  0.0001,  0.0002],\n",
       "        [-0.001 ,  0.0004,  0.0002,  0.0004]]), array(['wolf wolverine wolf bear', 'bear wolf bear lynx ',\n",
       "        'lynx bear lynx wolverine ', 'wolverine lynx wolverine bear'], dtype=object))"
      ]
     },
     "execution_count": 10,
     "metadata": {},
     "output_type": "execute_result"
    }
   ],
   "source": [
    "f_stats.estimator_covariance(G, pops, 1, \"f3_subset\")"
   ]
  },
  {
   "cell_type": "code",
   "execution_count": null,
   "metadata": {
    "collapsed": true
   },
   "outputs": [],
   "source": []
  }
 ],
 "metadata": {
  "kernelspec": {
   "display_name": "Python 3",
   "language": "python",
   "name": "python3"
  },
  "language_info": {
   "codemirror_mode": {
    "name": "ipython",
    "version": 3
   },
   "file_extension": ".py",
   "mimetype": "text/x-python",
   "name": "python",
   "nbconvert_exporter": "python",
   "pygments_lexer": "ipython3",
   "version": "3.6.2"
  }
 },
 "nbformat": 4,
 "nbformat_minor": 2
}
